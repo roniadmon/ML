{
 "cells": [
  {
   "cell_type": "markdown",
   "id": "insured-prior",
   "metadata": {},
   "source": [
    "## Homework 1"
   ]
  },
  {
   "cell_type": "markdown",
   "id": "computational-expense",
   "metadata": {},
   "source": [
    "check prediction for rainy days only"
   ]
  },
  {
   "cell_type": "code",
   "execution_count": 62,
   "id": "active-romania",
   "metadata": {},
   "outputs": [],
   "source": [
    "import torch\n",
    "from torch.utils.data import TensorDataset,DataLoader\n",
    "import pytorch_forecasting\n",
    "import numpy as np\n",
    "import os\n",
    "from scipy import stats\n",
    "\n",
    "os.chdir(os.getcwd())\n",
    "fieldname = '_19790101-20190228.npy'\n",
    "x1_arr = np.load('z1000'+fieldname) # geopotential height data (9*9 resolution)\n",
    "#x2_arr = x1_arr.copy() # geopotential height data (9*9 resolution)\n",
    "x2_arr = np.load('pv300'+fieldname) # potential vorticity data (9*9 resolution)\n",
    "\n",
    "x1_arr_norm = stats.zscore(x1_arr) # normalize\n",
    "x2_arr_norm = stats.zscore(x2_arr)\n",
    "y_arr = np.load('rain_basin_19790101-20190228.npy') # rain data\n",
    "\n",
    "tensor_x = torch.Tensor(np.stack([x1_arr_norm,x2_arr_norm],axis=1)) # join z,z and pv data\n",
    "tensor_y = torch.Tensor(y_arr)\n",
    "\n",
    "forecast_dataset = TensorDataset(tensor_x,tensor_y) # creates a dataset based on tensors\n",
    "\n",
    "train_size = int(np.ceil(0.8*len(forecast_dataset)))\n",
    "train_set, val_set = torch.utils.data.random_split(forecast_dataset,[train_size,len(forecast_dataset)-train_size])"
   ]
  },
  {
   "cell_type": "code",
   "execution_count": 63,
   "id": "1d4ecdd5",
   "metadata": {},
   "outputs": [
    {
     "data": {
      "text/plain": [
       "0.5140748838480459"
      ]
     },
     "execution_count": 63,
     "metadata": {},
     "output_type": "execute_result"
    }
   ],
   "source": [
    "sum(np.any(y_arr>0.1,axis=1))/len(y_arr) # wet days"
   ]
  },
  {
   "cell_type": "code",
   "execution_count": 64,
   "id": "e17cf3dc",
   "metadata": {},
   "outputs": [],
   "source": [
    "training_dataloader = DataLoader(train_set,batch_size=300,shuffle=True)\n",
    "valid_dataloader = DataLoader(val_set,batch_size=300)"
   ]
  },
  {
   "cell_type": "code",
   "execution_count": 65,
   "id": "a8760bd4",
   "metadata": {},
   "outputs": [
    {
     "name": "stdout",
     "output_type": "stream",
     "text": [
      "torch.Size([300, 2, 9, 9]) torch.Size([300, 4])\n"
     ]
    }
   ],
   "source": [
    "tensor_x.shape\n",
    "for x,y in training_dataloader:\n",
    "    print(x.shape,y.shape)\n",
    "    break"
   ]
  },
  {
   "cell_type": "markdown",
   "id": "proper-credits",
   "metadata": {},
   "source": [
    "### activate autoreload so any changes you make to dataloader.py, model.py are automatically imported"
   ]
  },
  {
   "cell_type": "code",
   "execution_count": 66,
   "id": "threaded-transcription",
   "metadata": {},
   "outputs": [
    {
     "name": "stdout",
     "output_type": "stream",
     "text": [
      "The autoreload extension is already loaded. To reload it, use:\n",
      "  %reload_ext autoreload\n"
     ]
    }
   ],
   "source": [
    "%load_ext autoreload\n",
    "%autoreload 2"
   ]
  },
  {
   "cell_type": "code",
   "execution_count": 67,
   "id": "cb3252aa",
   "metadata": {},
   "outputs": [],
   "source": [
    "from model_NN import Net\n",
    "import matplotlib.pyplot as plt\n",
    "\n",
    "net = Net()"
   ]
  },
  {
   "cell_type": "markdown",
   "id": "material-banking",
   "metadata": {},
   "source": [
    "## the training:\n"
   ]
  },
  {
   "cell_type": "code",
   "execution_count": 68,
   "id": "historic-promotion",
   "metadata": {},
   "outputs": [],
   "source": [
    "import torch.nn as nn\n",
    "import torch.optim as optim\n",
    "import tqdm\n",
    "\n",
    "loss_func = nn.L1Loss()\n",
    "optimizer = optim.Adam(net.parameters(), lr=0.001) "
   ]
  },
  {
   "cell_type": "code",
   "execution_count": 69,
   "id": "sporting-score",
   "metadata": {},
   "outputs": [],
   "source": [
    "def compute_accuracy_and_loss(dataloader,net):\n",
    "    total = 0\n",
    "    correct = 0\n",
    "    loss = 0\n",
    "    \n",
    "    if torch.cuda.is_available():\n",
    "        net.cuda()\n",
    "    net.eval()\n",
    "    \n",
    "    n_batches = 0\n",
    "    with torch.no_grad():\n",
    "        for x,y in dataloader:\n",
    "            n_batches+=1\n",
    "            \n",
    "            if torch.cuda.is_available():\n",
    "                x = x.cuda()\n",
    "                y = y.cuda()\n",
    "            pred = net(x)\n",
    "            \n",
    "            loss+= loss_func(pred,y).item()\n",
    "            \n",
    "            err_abs = torch.abs(y-pred)\n",
    "            err_rel = err_abs/y\n",
    "            correct_abs = err_abs<=1\n",
    "            correct_rel = err_rel<=0.1\n",
    "            \n",
    "            # an accurate prediction is where all stations of a predicted day either have relative errors<10%\n",
    "            # or absolute errors<1mm\n",
    "            correct_batch = np.logical_or(correct_abs,correct_rel).all(axis=1)\n",
    "            \n",
    "            correct+=sum(correct_batch).item()\n",
    "            total+=len(y)\n",
    "            \n",
    "    loss = loss/n_batches      \n",
    "    return correct/total, loss"
   ]
  },
  {
   "cell_type": "code",
   "execution_count": 70,
   "id": "standard-dallas",
   "metadata": {},
   "outputs": [
    {
     "data": {
      "text/plain": [
       "(0.5771857923497268, 4.07939829826355)"
      ]
     },
     "execution_count": 70,
     "metadata": {},
     "output_type": "execute_result"
    }
   ],
   "source": [
    "compute_accuracy_and_loss(training_dataloader,net)"
   ]
  },
  {
   "cell_type": "code",
   "execution_count": 71,
   "id": "patent-little",
   "metadata": {},
   "outputs": [
    {
     "data": {
      "text/plain": [
       "(0.5581395348837209, 4.397224585215251)"
      ]
     },
     "execution_count": 71,
     "metadata": {},
     "output_type": "execute_result"
    }
   ],
   "source": [
    "compute_accuracy_and_loss(valid_dataloader,net)"
   ]
  },
  {
   "cell_type": "code",
   "execution_count": 72,
   "id": "advisory-minority",
   "metadata": {},
   "outputs": [],
   "source": [
    "if torch.cuda.is_available():\n",
    "    net.cuda()"
   ]
  },
  {
   "cell_type": "code",
   "execution_count": 73,
   "id": "e52e63f1",
   "metadata": {},
   "outputs": [],
   "source": [
    "# for VGG\n",
    "\n",
    "import torchvision.models as models\n",
    "\n",
    "#pretrained_model = models.vgg11(pretrained=True)\n",
    "#pretrained_dict = pretrained_model.state_dict()\n",
    "#state_dict = net.state_dict()\n",
    "\n",
    "#for key in state_dict.keys():\n",
    " #   if 'features' not in key:\n",
    "  #      continue\n",
    "#    if key in pretrained_dict.keys():\n",
    " #       state_dict[key] = pretrained_dict[key]\n",
    "\n",
    "#net.load_state_dict(state_dict)"
   ]
  },
  {
   "cell_type": "code",
   "execution_count": 74,
   "id": "featured-bradford",
   "metadata": {},
   "outputs": [
    {
     "name": "stderr",
     "output_type": "stream",
     "text": [
      "val acc:0.46922, train acc:0.57377: 100%|██████████| 50/50 [00:05<00:00,  9.85it/s]\n"
     ]
    }
   ],
   "source": [
    "\n",
    "n_epochs = 50\n",
    "\n",
    "\n",
    "training_loss_vs_epoch = []\n",
    "validation_loss_vs_epoch = []\n",
    "\n",
    "training_acc_vs_epoch = []\n",
    "validation_acc_vs_epoch = []\n",
    "\n",
    "pbar = tqdm.tqdm( range(n_epochs) )\n",
    "\n",
    "for epoch in pbar:\n",
    "    \n",
    "    loss,correct,total = 0,0,0\n",
    "    \n",
    "    if len(validation_loss_vs_epoch) > 1:\n",
    "        pbar.set_description('val acc:'+'{0:.5f}'.format(validation_acc_vs_epoch[-1])+\n",
    "                             ', train acc:'+'{0:.5f}'.format(training_acc_vs_epoch[-1]))\n",
    "    \n",
    "    net.train() # put the net into \"training mode\"\n",
    "    for x,y in training_dataloader:\n",
    "        \n",
    "        optimizer.zero_grad() # zero the gradient\n",
    "        \n",
    "        if torch.cuda.is_available():\n",
    "            x = x.cuda()\n",
    "            y = y.cuda()\n",
    "\n",
    "        pred = net(x)\n",
    "        \n",
    "        cur_lossfunc = loss_func(pred,y)\n",
    "        loss+= cur_lossfunc.item()\n",
    "        \n",
    "        cur_lossfunc.backward()\n",
    "        optimizer.step()\n",
    "    net.eval() #put the net into evaluation mode\n",
    "    \n",
    "    \n",
    "    train_acc, train_loss = compute_accuracy_and_loss(training_dataloader,net)\n",
    "    valid_acc, valid_loss =  compute_accuracy_and_loss(valid_dataloader,net)\n",
    "         \n",
    "    training_loss_vs_epoch.append( train_loss)    \n",
    "    training_acc_vs_epoch.append( train_acc )\n",
    "    \n",
    "    validation_acc_vs_epoch.append(valid_acc)\n",
    "    \n",
    "    validation_loss_vs_epoch.append(valid_loss)\n",
    "    \n",
    "    #save the model if the validation loss has decreased\n",
    "#    if len(validation_loss_vs_epoch)==1 or validation_loss_vs_epoch[-2] > validation_loss_vs_epoch[-1]:\n",
    "#        torch.save(net.state_dict(), 'trained_model.pt')"
   ]
  },
  {
   "cell_type": "code",
   "execution_count": 75,
   "id": "inclusive-wrestling",
   "metadata": {},
   "outputs": [
    {
     "data": {
      "image/png": "[encoded data removed]",
      "text/plain": [
       "<Figure size 576x216 with 2 Axes>"
      ]
     },
     "metadata": {
      "needs_background": "light"
     },
     "output_type": "display_data"
    }
   ],
   "source": [
    "fig,ax = plt.subplots(1,2,figsize=(8,3))\n",
    "\n",
    "ax[0].plot(training_loss_vs_epoch,label='training')\n",
    "ax[0].plot(validation_loss_vs_epoch,label='validation')\n",
    "\n",
    "ax[1].plot(training_acc_vs_epoch)\n",
    "ax[1].plot(validation_acc_vs_epoch)\n",
    "\n",
    "plt.show()"
   ]
  }
 ],
 "metadata": {
  "kernelspec": {
   "display_name": "Python 3",
   "language": "python",
   "name": "python3"
  },
  "language_info": {
   "codemirror_mode": {
    "name": "ipython",
    "version": 3
   },
   "file_extension": ".py",
   "mimetype": "text/x-python",
   "name": "python",
   "nbconvert_exporter": "python",
   "pygments_lexer": "ipython3",
   "version": "3.8.5"
  }
 },
 "nbformat": 4,
 "nbformat_minor": 5
}
