{
 "cells": [
  {
   "cell_type": "code",
   "execution_count": null,
   "metadata": {
    "colab": {
     "base_uri": "https://localhost:8080/"
    },
    "id": "9Th405hAmSLM",
    "outputId": "7aecebb5-5748-42ae-8023-1357e204204a"
   },
   "outputs": [],
   "source": [
    "#!pip install torch==1.0.0 torchvision==0.2.2 -f https://download.pytorch.org/whl/cu90/torch_stable.html\n",
    "%load_ext autoreload\n",
    "%autoreload 2\n",
    "\n",
    "import argparse\n",
    "import os\n",
    "import torch\n",
    "import capsulenet_mki\n",
    "import numpy as np\n",
    "\n",
    "# setting the hyper parameters\n",
    "parser = argparse.ArgumentParser(description=\"Capsule Network.\")\n",
    "\n",
    "parser.add_argument('--epochs', default=50, type=int)\n",
    "parser.add_argument('--batch_size', default=200, type=int)\n",
    "parser.add_argument('--lr', default=0.001, type=float,help=\"Initial learning rate\")\n",
    "parser.add_argument('--lr_decay', default=0.9, type=float,help=\"The value multiplied by lr at each epoch. Set a larger value for larger epochs\")\n",
    "parser.add_argument('--lam_recon', default=0.0005 * 784, type=float,help=\"The coefficient for the loss of decoder\")\n",
    "parser.add_argument('-r', '--routings', default=3, type=int,help=\"Number of iterations used in routing algorithm. should > 0\")  # num_routing should > 0\n",
    "parser.add_argument('--shift_pixels', default=2, type=int,help=\"Number of pixels to shift at most in each direction.\")\n",
    "parser.add_argument('--data_dir', default='../wind_data/',help=\"Directory of data. If no data, use \\'--download\\' flag to download it\")\n",
    "parser.add_argument('--download', action='store_true',help=\"Download the required data.\")\n",
    "parser.add_argument('--save_dir', default='./result')\n",
    "parser.add_argument('-t', '--testing', action='store_true',help=\"Test the trained model on testing dataset\")\n",
    "parser.add_argument('-w', '--weights', default=None,help=\"The path of the saved weights. Should be specified when testing\")\n",
    "args = parser.parse_args(args=[])\n",
    "print(args)\n",
    "\n",
    "if not os.path.exists(args.save_dir):\n",
    "    os.makedirs(args.save_dir)\n",
    "\n",
    "# load direction data\n",
    "input_size=[4, 5, 5]\n",
    "train_loader, test_loader = capsulenet_mki.load(input_size ,'../data/',200,1) # last argument is location index (0-3)\n",
    "\n",
    "# define model\n",
    "model = capsulenet_mki.CapsuleNet(input_size, classes=6, routings=5)\n",
    "if torch.cuda.is_available():\n",
    "  model.cuda()\n",
    "\n",
    "capsulenet_mki.train(model, train_loader, test_loader, args)\n",
    "test_loss, test_acc = capsulenet_mki.test(model=model, test_loader=test_loader, args=args)\n",
    "print('test acc = %.4f, test loss = %.5f' % (test_acc, test_loss))"
   ]
  },
  {
   "cell_type": "code",
   "execution_count": null,
   "metadata": {},
   "outputs": [],
   "source": [
    "import argparse\n",
    "import os\n",
    "import torch\n",
    "import capsulenet_mki\n",
    "import numpy as np\n",
    "import matplotlib.pyplot as plt\n",
    "\n",
    "path = '../data/'\n",
    "rain_bins = np.array([0,0.1,4,16,32,64,100])\n",
    "\n",
    "y_arr = np.load(path+'rain_basin_NDJFM_19790101-20190331.npy') # rain data\n",
    "y_arr = np.digitize(y_arr[:,0],rain_bins)-1\n",
    "\n",
    "plt.hist(y_arr,bins = np.arange(0,6)-0.5)\n",
    "print(y_arr.shape)"
   ]
  },
  {
   "cell_type": "code",
   "execution_count": null,
   "metadata": {},
   "outputs": [],
   "source": [
    "test_loss, test_acc = capsulenet.test(model=model, test_loader=test_loader, args=args)\n",
    "print('test acc = %.4f, test loss = %.5f' % (test_acc, test_loss))"
   ]
  },
  {
   "cell_type": "code",
   "execution_count": null,
   "metadata": {
    "id": "4vYbgvl3sPtJ"
   },
   "outputs": [],
   "source": [
    "def caps_loss(y_true, y_pred, x, x_recon, lam_recon):\n",
    "    L = y_true * torch.clamp(0.9 - y_pred, min=0.) ** 2 + \\\n",
    "        0.5 * (1 - y_true) * torch.clamp(y_pred - 0.1, min=0.) ** 2\n",
    "    L_margin = L.sum(dim=1).mean()\n",
    "\n",
    "    L_recon = nn.MSELoss()(x_recon, x)\n",
    "\n",
    "    return L_margin + lam_recon * L_recon\n"
   ]
  }
 ],
 "metadata": {
  "accelerator": "GPU",
  "colab": {
   "collapsed_sections": [],
   "name": "Untitled2.ipynb",
   "provenance": []
  },
  "kernelspec": {
   "display_name": "Python 3",
   "language": "python",
   "name": "python3"
  },
  "language_info": {
   "codemirror_mode": {
    "name": "ipython",
    "version": 3
   },
   "file_extension": ".py",
   "mimetype": "text/x-python",
   "name": "python",
   "nbconvert_exporter": "python",
   "pygments_lexer": "ipython3",
   "version": "3.8.10"
  }
 },
 "nbformat": 4,
 "nbformat_minor": 1
}
