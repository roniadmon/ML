{
  "nbformat": 4,
  "nbformat_minor": 0,
  "metadata": {
    "colab": {
      "name": "ml-project.ipynb",
      "provenance": []
    },
    "kernelspec": {
      "name": "python3",
      "display_name": "Python 3"
    },
    "language_info": {
      "name": "python"
    }
  },
  "cells": [
    {
      "cell_type": "code",
      "metadata": {
        "id": "i0lhoXScdl8M"
      },
      "source": [
        "%load_ext autoreload\n",
        "%autoreload 2"
      ],
      "execution_count": null,
      "outputs": []
    },
    {
      "cell_type": "code",
      "metadata": {
        "colab": {
          "base_uri": "https://localhost:8080/"
        },
        "id": "5a-h7GJOdoq6",
        "outputId": "9a56732c-32e7-4af1-d818-286624504067"
      },
      "source": [
        "import torch\n",
        "some_tensor = torch.rand(1,9,9)\n",
        "print(some_tensor.shape)\n",
        "some_tensor = some_tensor.repeat(3,1,1) ## <--- repeat \n",
        "print(some_tensor.shape)"
      ],
      "execution_count": 15,
      "outputs": [
        {
          "output_type": "stream",
          "text": [
            "torch.Size([1, 9, 9])\n",
            "torch.Size([3, 9, 9])\n"
          ],
          "name": "stdout"
        }
      ]
    },
    {
      "cell_type": "code",
      "metadata": {
        "id": "4uzuKSJcd_tJ"
      },
      "source": [
        "import torch\n",
        "from torch.utils.data import TensorDataset,DataLoader\n",
        "import numpy as np\n",
        "import os\n",
        "from scipy import stats\n",
        "\n",
        "os.chdir(os.getcwd())\n",
        "path = 'data/'\n",
        "fieldname = '_19790101-20190228.npy'\n",
        "x1_arr = np.load(path+'z1000'+fieldname) # geopotential height data (9*9 resolution)\n",
        "x2_arr = np.load(path+'pv300'+fieldname) # potential vorticity data (9*9 resolution)\n",
        "\n",
        "x1_arr_flat = stats.zscore(x1_arr.reshape([x1_arr.shape[0],x1_arr.shape[1]*x1_arr.shape[2]])) # normalize and flatten\n",
        "x2_arr_flat = stats.zscore(x2_arr.reshape([x2_arr.shape[0],x2_arr.shape[1]*x2_arr.shape[2]]))\n",
        "y_arr = np.load(path+'rain_basin_19790101-20190228.npy') # rain data\n",
        "\n",
        "tensor_x = torch.Tensor(np.concatenate([x1_arr_flat,x2_arr_flat],axis=1)) # join z and pv data\n",
        "tensor_y = torch.Tensor(y_arr)\n",
        "\n",
        "forecast_dataset = TensorDataset(tensor_x,tensor_y) # creates a dataset based on tensors\n",
        "forecast_dataset2 = []\n",
        "for j in forecast_dataset:\n",
        "  forecast_dataset2.append( ( j[0].reshape((2, 9, 9)) , j[1] ) ) # Rotem: ask about order of 162\n",
        "training_ds, validation_ds = torch.utils.data.random_split(forecast_dataset2, [2195,1464])\n",
        "training_dataloader = DataLoader(training_ds,batch_size=200,shuffle=True)\n",
        "valid_dataloader = DataLoader(validation_ds,batch_size=200)\n",
        "\n"
      ],
      "execution_count": 50,
      "outputs": []
    },
    {
      "cell_type": "code",
      "metadata": {
        "colab": {
          "base_uri": "https://localhost:8080/"
        },
        "id": "DB3461CZYHMn",
        "outputId": "9e2a49c5-0587-4013-973c-4c073bfe651b"
      },
      "source": [
        "for batch_x,batch_y in training_dataloader:\n",
        "  print(batch_x.shape, batch_y.shape)"
      ],
      "execution_count": 51,
      "outputs": [
        {
          "output_type": "stream",
          "text": [
            "torch.Size([200, 2, 9, 9]) torch.Size([200, 4])\n",
            "torch.Size([200, 2, 9, 9]) torch.Size([200, 4])\n",
            "torch.Size([200, 2, 9, 9]) torch.Size([200, 4])\n",
            "torch.Size([200, 2, 9, 9]) torch.Size([200, 4])\n",
            "torch.Size([200, 2, 9, 9]) torch.Size([200, 4])\n",
            "torch.Size([200, 2, 9, 9]) torch.Size([200, 4])\n",
            "torch.Size([200, 2, 9, 9]) torch.Size([200, 4])\n",
            "torch.Size([200, 2, 9, 9]) torch.Size([200, 4])\n",
            "torch.Size([200, 2, 9, 9]) torch.Size([200, 4])\n",
            "torch.Size([200, 2, 9, 9]) torch.Size([200, 4])\n",
            "torch.Size([195, 2, 9, 9]) torch.Size([195, 4])\n"
          ],
          "name": "stdout"
        }
      ]
    },
    {
      "cell_type": "code",
      "metadata": {
        "colab": {
          "base_uri": "https://localhost:8080/"
        },
        "id": "soB9HY0_YP1f",
        "outputId": "6b2243ae-4e7f-4cd2-c7a6-c3aeccfdd593"
      },
      "source": [
        "for batch_x,batch_y in valid_dataloader:\n",
        "  print(batch_x.shape, batch_y.shape)"
      ],
      "execution_count": 52,
      "outputs": [
        {
          "output_type": "stream",
          "text": [
            "torch.Size([200, 2, 9, 9]) torch.Size([200, 4])\n",
            "torch.Size([200, 2, 9, 9]) torch.Size([200, 4])\n",
            "torch.Size([200, 2, 9, 9]) torch.Size([200, 4])\n",
            "torch.Size([200, 2, 9, 9]) torch.Size([200, 4])\n",
            "torch.Size([200, 2, 9, 9]) torch.Size([200, 4])\n",
            "torch.Size([200, 2, 9, 9]) torch.Size([200, 4])\n",
            "torch.Size([200, 2, 9, 9]) torch.Size([200, 4])\n",
            "torch.Size([64, 2, 9, 9]) torch.Size([64, 4])\n"
          ],
          "name": "stdout"
        }
      ]
    },
    {
      "cell_type": "markdown",
      "metadata": {
        "id": "gYnd-nXwYK56"
      },
      "source": [
        "for batch_x,batch_y in valid_dataloader:\n",
        "  print(batch_x.shape, batch_y.shape)"
      ]
    }
  ]
}
