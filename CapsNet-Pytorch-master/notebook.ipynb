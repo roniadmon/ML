{
 "cells": [
  {
   "cell_type": "code",
   "execution_count": null,
   "metadata": {
    "colab": {
     "base_uri": "https://localhost:8080/"
    },
    "id": "9Th405hAmSLM",
    "outputId": "7aecebb5-5748-42ae-8023-1357e204204a"
   },
   "outputs": [
    {
     "name": "stdout",
     "output_type": "stream",
     "text": [
      "The autoreload extension is already loaded. To reload it, use:\n",
      "  %reload_ext autoreload\n",
      "Namespace(batch_size=200, data_dir='./data/', download=False, epochs=50, lam_recon=0.392, lr=0.001, lr_decay=0.9, routings=3, save_dir='./result', shift_pixels=2, testing=False, weights=None)\n",
      "[3, 14, 14]\n",
      "CapsuleNet(\n",
      "  (conv1): Conv2d(3, 256, kernel_size=(2, 2), stride=(1, 1))\n",
      "  (primarycaps): PrimaryCapsule(\n",
      "    (conv2d): Conv2d(256, 256, kernel_size=(2, 2), stride=(2, 2))\n",
      "  )\n",
      "  (digitcaps): DenseCapsule()\n",
      "  (decoder): Sequential(\n",
      "    (0): Linear(in_features=48, out_features=512, bias=True)\n",
      "    (1): ReLU(inplace=True)\n",
      "    (2): Linear(in_features=512, out_features=1024, bias=True)\n",
      "    (3): ReLU(inplace=True)\n",
      "    (4): Linear(in_features=1024, out_features=588, bias=True)\n",
      "    (5): Sigmoid()\n",
      "  )\n",
      "  (relu): ReLU()\n",
      ")\n",
      "Begin Training----------------------------------------------------------------------\n",
      "0\n",
      "==> Epoch 00: loss=0.48684, val_loss=0.43750, val_acc=0.9301, time=100s\n",
      "best val_acc increased to 0.9301\n",
      "1\n",
      "==> Epoch 01: loss=0.38172, val_loss=0.37742, val_acc=0.9301, time=99s\n",
      "2\n"
     ]
    }
   ],
   "source": [
    "#!pip install torch==1.0.0 torchvision==0.2.2 -f https://download.pytorch.org/whl/cu90/torch_stable.html\n",
    "%load_ext autoreload\n",
    "%autoreload 2\n",
    "\n",
    "import argparse\n",
    "import os\n",
    "import torch\n",
    "import capsulenet\n",
    "\n",
    "# setting the hyper parameters\n",
    "parser = argparse.ArgumentParser(description=\"Capsule Network.\")\n",
    "\n",
    "parser.add_argument('--epochs', default=50, type=int)\n",
    "parser.add_argument('--batch_size', default=200, type=int)\n",
    "parser.add_argument('--lr', default=0.001, type=float,help=\"Initial learning rate\")\n",
    "parser.add_argument('--lr_decay', default=0.9, type=float,help=\"The value multiplied by lr at each epoch. Set a larger value for larger epochs\")\n",
    "parser.add_argument('--lam_recon', default=0.0005 * 784, type=float,help=\"The coefficient for the loss of decoder\")\n",
    "parser.add_argument('-r', '--routings', default=3, type=int,help=\"Number of iterations used in routing algorithm. should > 0\")  # num_routing should > 0\n",
    "parser.add_argument('--shift_pixels', default=2, type=int,help=\"Number of pixels to shift at most in each direction.\")\n",
    "parser.add_argument('--data_dir', default='./data/',help=\"Directory of data. If no data, use \\'--download\\' flag to download it\")\n",
    "parser.add_argument('--download', action='store_true',help=\"Download the required data.\")\n",
    "parser.add_argument('--save_dir', default='./result')\n",
    "parser.add_argument('-t', '--testing', action='store_true',help=\"Test the trained model on testing dataset\")\n",
    "parser.add_argument('-w', '--weights', default=None,help=\"The path of the saved weights. Should be specified when testing\")\n",
    "args = parser.parse_args(args=[])\n",
    "print(args)\n",
    "\n",
    "if not os.path.exists(args.save_dir):\n",
    "    os.makedirs(args.save_dir)\n",
    "\n",
    "# load data\n",
    "\n",
    "#train_loader, test_loader = capsulenet.load_mnist(True,args.data_dir, download=False, batch_size=args.batch_size,location=0 )\n",
    "train_loader, test_loader = capsulenet.load_mnist(False,'./data_hourly/', download=False, batch_size=args.batch_size, location=0)\n",
    "\n",
    "# define model\n",
    "#model = capsulenet.CapsuleNet(input_size=[1, 28, 28], classes=10, routings=5)\n",
    "model = capsulenet.CapsuleNet(input_size=[3, 14, 14], classes=3, routings=5)\n",
    "if torch.cuda.is_available():\n",
    "  model.cuda()\n",
    "print(model)\n",
    "\n",
    "\n",
    "# train or test\n",
    "if args.weights is not None:  # init the model weights with provided one\n",
    "    model.load_state_dict(torch.load(args.weights))\n",
    "if not args.testing:\n",
    "    capsulenet.train(model, train_loader, test_loader, args)\n",
    "else:  # testing\n",
    "    if args.weights is None:\n",
    "        print('No weights are provided. Will test using random initialized weights.')\n",
    "    test_loss, test_acc = test(model=model, test_loader=test_loader, args=args)\n",
    "    print('test acc = %.4f, test loss = %.5f' % (test_acc, test_loss))\n",
    "    #show_reconstruction(model, test_loader, 50, args)\n",
    "    "
   ]
  },
  {
   "cell_type": "code",
   "execution_count": 24,
   "metadata": {},
   "outputs": [
    {
     "name": "stdout",
     "output_type": "stream",
     "text": [
      "torch.Size([200, 1, 42, 14])\n",
      "torch.Size([200, 3])\n",
      "torch.Size([200, 1, 42, 14])\n",
      "torch.Size([200, 3])\n",
      "torch.Size([200, 1, 42, 14])\n",
      "torch.Size([200, 3])\n",
      "torch.Size([200, 1, 42, 14])\n",
      "torch.Size([200, 3])\n",
      "torch.Size([200, 1, 42, 14])\n",
      "torch.Size([200, 3])\n",
      "torch.Size([200, 1, 42, 14])\n",
      "torch.Size([200, 3])\n",
      "torch.Size([200, 1, 42, 14])\n",
      "torch.Size([200, 3])\n",
      "torch.Size([200, 1, 42, 14])\n",
      "torch.Size([200, 3])\n",
      "torch.Size([200, 1, 42, 14])\n",
      "torch.Size([200, 3])\n",
      "torch.Size([200, 1, 42, 14])\n",
      "torch.Size([200, 3])\n",
      "torch.Size([200, 1, 42, 14])\n",
      "torch.Size([200, 3])\n",
      "torch.Size([200, 1, 42, 14])\n",
      "torch.Size([200, 3])\n",
      "torch.Size([200, 1, 42, 14])\n",
      "torch.Size([200, 3])\n",
      "torch.Size([200, 1, 42, 14])\n",
      "torch.Size([200, 3])\n",
      "torch.Size([200, 1, 42, 14])\n",
      "torch.Size([200, 3])\n",
      "torch.Size([200, 1, 42, 14])\n",
      "torch.Size([200, 3])\n",
      "torch.Size([200, 1, 42, 14])\n",
      "torch.Size([200, 3])\n",
      "torch.Size([200, 1, 42, 14])\n",
      "torch.Size([200, 3])\n",
      "torch.Size([200, 1, 42, 14])\n",
      "torch.Size([200, 3])\n",
      "torch.Size([200, 1, 42, 14])\n",
      "torch.Size([200, 3])\n",
      "torch.Size([200, 1, 42, 14])\n",
      "torch.Size([200, 3])\n",
      "torch.Size([200, 1, 42, 14])\n",
      "torch.Size([200, 3])\n",
      "torch.Size([200, 1, 42, 14])\n",
      "torch.Size([200, 3])\n",
      "torch.Size([200, 1, 42, 14])\n",
      "torch.Size([200, 3])\n",
      "torch.Size([200, 1, 42, 14])\n",
      "torch.Size([200, 3])\n",
      "torch.Size([200, 1, 42, 14])\n",
      "torch.Size([200, 3])\n",
      "torch.Size([200, 1, 42, 14])\n",
      "torch.Size([200, 3])\n",
      "torch.Size([200, 1, 42, 14])\n",
      "torch.Size([200, 3])\n",
      "torch.Size([200, 1, 42, 14])\n",
      "torch.Size([200, 3])\n",
      "torch.Size([200, 1, 42, 14])\n",
      "torch.Size([200, 3])\n",
      "torch.Size([200, 1, 42, 14])\n",
      "torch.Size([200, 3])\n",
      "torch.Size([200, 1, 42, 14])\n",
      "torch.Size([200, 3])\n",
      "torch.Size([200, 1, 42, 14])\n",
      "torch.Size([200, 3])\n",
      "torch.Size([200, 1, 42, 14])\n",
      "torch.Size([200, 3])\n",
      "torch.Size([200, 1, 42, 14])\n",
      "torch.Size([200, 3])\n",
      "torch.Size([200, 1, 42, 14])\n",
      "torch.Size([200, 3])\n",
      "torch.Size([200, 1, 42, 14])\n",
      "torch.Size([200, 3])\n",
      "torch.Size([200, 1, 42, 14])\n",
      "torch.Size([200, 3])\n",
      "torch.Size([200, 1, 42, 14])\n",
      "torch.Size([200, 3])\n",
      "torch.Size([200, 1, 42, 14])\n",
      "torch.Size([200, 3])\n",
      "torch.Size([200, 1, 42, 14])\n",
      "torch.Size([200, 3])\n",
      "torch.Size([200, 1, 42, 14])\n",
      "torch.Size([200, 3])\n",
      "torch.Size([200, 1, 42, 14])\n",
      "torch.Size([200, 3])\n",
      "torch.Size([200, 1, 42, 14])\n",
      "torch.Size([200, 3])\n",
      "torch.Size([200, 1, 42, 14])\n",
      "torch.Size([200, 3])\n",
      "torch.Size([200, 1, 42, 14])\n",
      "torch.Size([200, 3])\n",
      "torch.Size([200, 1, 42, 14])\n",
      "torch.Size([200, 3])\n",
      "torch.Size([200, 1, 42, 14])\n",
      "torch.Size([200, 3])\n",
      "torch.Size([200, 1, 42, 14])\n",
      "torch.Size([200, 3])\n",
      "torch.Size([200, 1, 42, 14])\n",
      "torch.Size([200, 3])\n",
      "torch.Size([200, 1, 42, 14])\n",
      "torch.Size([200, 3])\n",
      "torch.Size([200, 1, 42, 14])\n",
      "torch.Size([200, 3])\n",
      "torch.Size([200, 1, 42, 14])\n",
      "torch.Size([200, 3])\n",
      "torch.Size([200, 1, 42, 14])\n",
      "torch.Size([200, 3])\n",
      "torch.Size([200, 1, 42, 14])\n",
      "torch.Size([200, 3])\n",
      "torch.Size([200, 1, 42, 14])\n",
      "torch.Size([200, 3])\n",
      "torch.Size([200, 1, 42, 14])\n",
      "torch.Size([200, 3])\n",
      "torch.Size([132, 1, 42, 14])\n",
      "torch.Size([132, 3])\n"
     ]
    }
   ],
   "source": [
    "for i, (x, y) in enumerate(train_loader):\n",
    "    print(x.shape)\n",
    "    print(y.shape)"
   ]
  },
  {
   "cell_type": "code",
   "execution_count": 20,
   "metadata": {},
   "outputs": [
    {
     "name": "stdout",
     "output_type": "stream",
     "text": [
      "z.shape torch.Size([132, 1])\n",
      "torch.Size([132, 3])\n"
     ]
    }
   ],
   "source": [
    "z = y[:, None]\n",
    "z = torch.zeros(z.size(0), 3).scatter_(1, z, 1)\n",
    "print(z.shape)"
   ]
  },
  {
   "cell_type": "code",
   "execution_count": 23,
   "metadata": {
    "colab": {
     "base_uri": "https://localhost:8080/",
     "height": 1000
    },
    "id": "xF19Q7w0v828",
    "outputId": "8051ba75-4197-424c-ea71-790c6e79a938",
    "scrolled": true
   },
   "outputs": [
    {
     "name": "stdout",
     "output_type": "stream",
     "text": [
      "Begin Training----------------------------------------------------------------------\n",
      "0\n"
     ]
    },
    {
     "ename": "KeyboardInterrupt",
     "evalue": "",
     "output_type": "error",
     "traceback": [
      "\u001b[1;31m---------------------------------------------------------------------------\u001b[0m",
      "\u001b[1;31mKeyboardInterrupt\u001b[0m                         Traceback (most recent call last)",
      "\u001b[1;32m<ipython-input-23-34b5a3257582>\u001b[0m in \u001b[0;36m<module>\u001b[1;34m\u001b[0m\n\u001b[0;32m      3\u001b[0m     \u001b[0mmodel\u001b[0m\u001b[1;33m.\u001b[0m\u001b[0mload_state_dict\u001b[0m\u001b[1;33m(\u001b[0m\u001b[0mtorch\u001b[0m\u001b[1;33m.\u001b[0m\u001b[0mload\u001b[0m\u001b[1;33m(\u001b[0m\u001b[0margs\u001b[0m\u001b[1;33m.\u001b[0m\u001b[0mweights\u001b[0m\u001b[1;33m)\u001b[0m\u001b[1;33m)\u001b[0m\u001b[1;33m\u001b[0m\u001b[1;33m\u001b[0m\u001b[0m\n\u001b[0;32m      4\u001b[0m \u001b[1;32mif\u001b[0m \u001b[1;32mnot\u001b[0m \u001b[0margs\u001b[0m\u001b[1;33m.\u001b[0m\u001b[0mtesting\u001b[0m\u001b[1;33m:\u001b[0m\u001b[1;33m\u001b[0m\u001b[1;33m\u001b[0m\u001b[0m\n\u001b[1;32m----> 5\u001b[1;33m     \u001b[0mcapsulenet\u001b[0m\u001b[1;33m.\u001b[0m\u001b[0mtrain\u001b[0m\u001b[1;33m(\u001b[0m\u001b[0mmodel\u001b[0m\u001b[1;33m,\u001b[0m \u001b[0mtrain_loader\u001b[0m\u001b[1;33m,\u001b[0m \u001b[0mtest_loader\u001b[0m\u001b[1;33m,\u001b[0m \u001b[0margs\u001b[0m\u001b[1;33m)\u001b[0m\u001b[1;33m\u001b[0m\u001b[1;33m\u001b[0m\u001b[0m\n\u001b[0m\u001b[0;32m      6\u001b[0m \u001b[1;32melse\u001b[0m\u001b[1;33m:\u001b[0m  \u001b[1;31m# testing\u001b[0m\u001b[1;33m\u001b[0m\u001b[1;33m\u001b[0m\u001b[0m\n\u001b[0;32m      7\u001b[0m     \u001b[1;32mif\u001b[0m \u001b[0margs\u001b[0m\u001b[1;33m.\u001b[0m\u001b[0mweights\u001b[0m \u001b[1;32mis\u001b[0m \u001b[1;32mNone\u001b[0m\u001b[1;33m:\u001b[0m\u001b[1;33m\u001b[0m\u001b[1;33m\u001b[0m\u001b[0m\n",
      "\u001b[1;32m~\\Documents\\roni\\weizmann\\ML\\finalProject\\CapsNet-Pytorch-master\\capsulenet.py\u001b[0m in \u001b[0;36mtrain\u001b[1;34m(model, train_loader, test_loader, args)\u001b[0m\n\u001b[0;32m    171\u001b[0m \u001b[1;33m\u001b[0m\u001b[0m\n\u001b[0;32m    172\u001b[0m             \u001b[0moptimizer\u001b[0m\u001b[1;33m.\u001b[0m\u001b[0mzero_grad\u001b[0m\u001b[1;33m(\u001b[0m\u001b[1;33m)\u001b[0m  \u001b[1;31m# set gradients of optimizer to zero\u001b[0m\u001b[1;33m\u001b[0m\u001b[1;33m\u001b[0m\u001b[0m\n\u001b[1;32m--> 173\u001b[1;33m             \u001b[0my_pred\u001b[0m\u001b[1;33m,\u001b[0m \u001b[0mx_recon\u001b[0m \u001b[1;33m=\u001b[0m \u001b[0mmodel\u001b[0m\u001b[1;33m(\u001b[0m\u001b[0mx\u001b[0m\u001b[1;33m,\u001b[0m \u001b[0my\u001b[0m\u001b[1;33m)\u001b[0m  \u001b[1;31m# forward\u001b[0m\u001b[1;33m\u001b[0m\u001b[1;33m\u001b[0m\u001b[0m\n\u001b[0m\u001b[0;32m    174\u001b[0m             \u001b[0mloss\u001b[0m \u001b[1;33m=\u001b[0m \u001b[0mcaps_loss\u001b[0m\u001b[1;33m(\u001b[0m\u001b[0my\u001b[0m\u001b[1;33m,\u001b[0m \u001b[0my_pred\u001b[0m\u001b[1;33m,\u001b[0m \u001b[0mx\u001b[0m\u001b[1;33m,\u001b[0m \u001b[0mx_recon\u001b[0m\u001b[1;33m,\u001b[0m \u001b[0margs\u001b[0m\u001b[1;33m.\u001b[0m\u001b[0mlam_recon\u001b[0m\u001b[1;33m)\u001b[0m  \u001b[1;31m# compute loss\u001b[0m\u001b[1;33m\u001b[0m\u001b[1;33m\u001b[0m\u001b[0m\n\u001b[0;32m    175\u001b[0m             \u001b[0mloss\u001b[0m\u001b[1;33m.\u001b[0m\u001b[0mbackward\u001b[0m\u001b[1;33m(\u001b[0m\u001b[1;33m)\u001b[0m  \u001b[1;31m# backward, compute all gradients of loss w.r.t all Variables\u001b[0m\u001b[1;33m\u001b[0m\u001b[1;33m\u001b[0m\u001b[0m\n",
      "\u001b[1;32m~\\Anaconda3\\lib\\site-packages\\torch\\nn\\modules\\module.py\u001b[0m in \u001b[0;36m_call_impl\u001b[1;34m(self, *input, **kwargs)\u001b[0m\n\u001b[0;32m    725\u001b[0m             \u001b[0mresult\u001b[0m \u001b[1;33m=\u001b[0m \u001b[0mself\u001b[0m\u001b[1;33m.\u001b[0m\u001b[0m_slow_forward\u001b[0m\u001b[1;33m(\u001b[0m\u001b[1;33m*\u001b[0m\u001b[0minput\u001b[0m\u001b[1;33m,\u001b[0m \u001b[1;33m**\u001b[0m\u001b[0mkwargs\u001b[0m\u001b[1;33m)\u001b[0m\u001b[1;33m\u001b[0m\u001b[1;33m\u001b[0m\u001b[0m\n\u001b[0;32m    726\u001b[0m         \u001b[1;32melse\u001b[0m\u001b[1;33m:\u001b[0m\u001b[1;33m\u001b[0m\u001b[1;33m\u001b[0m\u001b[0m\n\u001b[1;32m--> 727\u001b[1;33m             \u001b[0mresult\u001b[0m \u001b[1;33m=\u001b[0m \u001b[0mself\u001b[0m\u001b[1;33m.\u001b[0m\u001b[0mforward\u001b[0m\u001b[1;33m(\u001b[0m\u001b[1;33m*\u001b[0m\u001b[0minput\u001b[0m\u001b[1;33m,\u001b[0m \u001b[1;33m**\u001b[0m\u001b[0mkwargs\u001b[0m\u001b[1;33m)\u001b[0m\u001b[1;33m\u001b[0m\u001b[1;33m\u001b[0m\u001b[0m\n\u001b[0m\u001b[0;32m    728\u001b[0m         for hook in itertools.chain(\n\u001b[0;32m    729\u001b[0m                 \u001b[0m_global_forward_hooks\u001b[0m\u001b[1;33m.\u001b[0m\u001b[0mvalues\u001b[0m\u001b[1;33m(\u001b[0m\u001b[1;33m)\u001b[0m\u001b[1;33m,\u001b[0m\u001b[1;33m\u001b[0m\u001b[1;33m\u001b[0m\u001b[0m\n",
      "\u001b[1;32m~\\Documents\\roni\\weizmann\\ML\\finalProject\\CapsNet-Pytorch-master\\capsulenet.py\u001b[0m in \u001b[0;36mforward\u001b[1;34m(self, x, y)\u001b[0m\n\u001b[0;32m     67\u001b[0m         \u001b[0mx\u001b[0m \u001b[1;33m=\u001b[0m \u001b[0mself\u001b[0m\u001b[1;33m.\u001b[0m\u001b[0mrelu\u001b[0m\u001b[1;33m(\u001b[0m\u001b[0mself\u001b[0m\u001b[1;33m.\u001b[0m\u001b[0mconv1\u001b[0m\u001b[1;33m(\u001b[0m\u001b[0mx\u001b[0m\u001b[1;33m)\u001b[0m\u001b[1;33m)\u001b[0m\u001b[1;33m\u001b[0m\u001b[1;33m\u001b[0m\u001b[0m\n\u001b[0;32m     68\u001b[0m         \u001b[0mx\u001b[0m \u001b[1;33m=\u001b[0m \u001b[0mself\u001b[0m\u001b[1;33m.\u001b[0m\u001b[0mprimarycaps\u001b[0m\u001b[1;33m(\u001b[0m\u001b[0mx\u001b[0m\u001b[1;33m)\u001b[0m\u001b[1;33m\u001b[0m\u001b[1;33m\u001b[0m\u001b[0m\n\u001b[1;32m---> 69\u001b[1;33m         \u001b[0mx\u001b[0m \u001b[1;33m=\u001b[0m \u001b[0mself\u001b[0m\u001b[1;33m.\u001b[0m\u001b[0mdigitcaps\u001b[0m\u001b[1;33m(\u001b[0m\u001b[0mx\u001b[0m\u001b[1;33m)\u001b[0m\u001b[1;33m\u001b[0m\u001b[1;33m\u001b[0m\u001b[0m\n\u001b[0m\u001b[0;32m     70\u001b[0m         \u001b[0mlength\u001b[0m \u001b[1;33m=\u001b[0m \u001b[0mx\u001b[0m\u001b[1;33m.\u001b[0m\u001b[0mnorm\u001b[0m\u001b[1;33m(\u001b[0m\u001b[0mdim\u001b[0m\u001b[1;33m=\u001b[0m\u001b[1;33m-\u001b[0m\u001b[1;36m1\u001b[0m\u001b[1;33m)\u001b[0m\u001b[1;33m\u001b[0m\u001b[1;33m\u001b[0m\u001b[0m\n\u001b[0;32m     71\u001b[0m         \u001b[1;32mif\u001b[0m \u001b[0my\u001b[0m \u001b[1;32mis\u001b[0m \u001b[1;32mNone\u001b[0m\u001b[1;33m:\u001b[0m  \u001b[1;31m# during testing, no label given. create one-hot coding using `length`\u001b[0m\u001b[1;33m\u001b[0m\u001b[1;33m\u001b[0m\u001b[0m\n",
      "\u001b[1;32m~\\Anaconda3\\lib\\site-packages\\torch\\nn\\modules\\module.py\u001b[0m in \u001b[0;36m_call_impl\u001b[1;34m(self, *input, **kwargs)\u001b[0m\n\u001b[0;32m    725\u001b[0m             \u001b[0mresult\u001b[0m \u001b[1;33m=\u001b[0m \u001b[0mself\u001b[0m\u001b[1;33m.\u001b[0m\u001b[0m_slow_forward\u001b[0m\u001b[1;33m(\u001b[0m\u001b[1;33m*\u001b[0m\u001b[0minput\u001b[0m\u001b[1;33m,\u001b[0m \u001b[1;33m**\u001b[0m\u001b[0mkwargs\u001b[0m\u001b[1;33m)\u001b[0m\u001b[1;33m\u001b[0m\u001b[1;33m\u001b[0m\u001b[0m\n\u001b[0;32m    726\u001b[0m         \u001b[1;32melse\u001b[0m\u001b[1;33m:\u001b[0m\u001b[1;33m\u001b[0m\u001b[1;33m\u001b[0m\u001b[0m\n\u001b[1;32m--> 727\u001b[1;33m             \u001b[0mresult\u001b[0m \u001b[1;33m=\u001b[0m \u001b[0mself\u001b[0m\u001b[1;33m.\u001b[0m\u001b[0mforward\u001b[0m\u001b[1;33m(\u001b[0m\u001b[1;33m*\u001b[0m\u001b[0minput\u001b[0m\u001b[1;33m,\u001b[0m \u001b[1;33m**\u001b[0m\u001b[0mkwargs\u001b[0m\u001b[1;33m)\u001b[0m\u001b[1;33m\u001b[0m\u001b[1;33m\u001b[0m\u001b[0m\n\u001b[0m\u001b[0;32m    728\u001b[0m         for hook in itertools.chain(\n\u001b[0;32m    729\u001b[0m                 \u001b[0m_global_forward_hooks\u001b[0m\u001b[1;33m.\u001b[0m\u001b[0mvalues\u001b[0m\u001b[1;33m(\u001b[0m\u001b[1;33m)\u001b[0m\u001b[1;33m,\u001b[0m\u001b[1;33m\u001b[0m\u001b[1;33m\u001b[0m\u001b[0m\n",
      "\u001b[1;32m~\\Documents\\roni\\weizmann\\ML\\finalProject\\CapsNet-Pytorch-master\\capsulelayers.py\u001b[0m in \u001b[0;36mforward\u001b[1;34m(self, x)\u001b[0m\n\u001b[0;32m     53\u001b[0m         \u001b[1;31m# => x_hat.size =[batch, out_num_caps, in_num_caps, out_dim_caps]\u001b[0m\u001b[1;33m\u001b[0m\u001b[1;33m\u001b[0m\u001b[1;33m\u001b[0m\u001b[0m\n\u001b[0;32m     54\u001b[0m         \u001b[1;31m#print(\"DenseCapsule x.shape\", x.shape)\u001b[0m\u001b[1;33m\u001b[0m\u001b[1;33m\u001b[0m\u001b[1;33m\u001b[0m\u001b[0m\n\u001b[1;32m---> 55\u001b[1;33m         \u001b[0mx_hat\u001b[0m \u001b[1;33m=\u001b[0m \u001b[0mtorch\u001b[0m\u001b[1;33m.\u001b[0m\u001b[0msqueeze\u001b[0m\u001b[1;33m(\u001b[0m\u001b[0mtorch\u001b[0m\u001b[1;33m.\u001b[0m\u001b[0mmatmul\u001b[0m\u001b[1;33m(\u001b[0m\u001b[0mself\u001b[0m\u001b[1;33m.\u001b[0m\u001b[0mweight\u001b[0m\u001b[1;33m,\u001b[0m \u001b[0mx\u001b[0m\u001b[1;33m[\u001b[0m\u001b[1;33m:\u001b[0m\u001b[1;33m,\u001b[0m \u001b[1;32mNone\u001b[0m\u001b[1;33m,\u001b[0m \u001b[1;33m:\u001b[0m\u001b[1;33m,\u001b[0m \u001b[1;33m:\u001b[0m\u001b[1;33m,\u001b[0m \u001b[1;32mNone\u001b[0m\u001b[1;33m]\u001b[0m\u001b[1;33m)\u001b[0m\u001b[1;33m,\u001b[0m \u001b[0mdim\u001b[0m\u001b[1;33m=\u001b[0m\u001b[1;33m-\u001b[0m\u001b[1;36m1\u001b[0m\u001b[1;33m)\u001b[0m\u001b[1;33m\u001b[0m\u001b[1;33m\u001b[0m\u001b[0m\n\u001b[0m\u001b[0;32m     56\u001b[0m \u001b[1;33m\u001b[0m\u001b[0m\n\u001b[0;32m     57\u001b[0m         \u001b[1;31m# In forward pass, `x_hat_detached` = `x_hat`;\u001b[0m\u001b[1;33m\u001b[0m\u001b[1;33m\u001b[0m\u001b[1;33m\u001b[0m\u001b[0m\n",
      "\u001b[1;31mKeyboardInterrupt\u001b[0m: "
     ]
    }
   ],
   "source": [
    "\n",
    "# train or test\n",
    "if args.weights is not None:  # init the model weights with provided one\n",
    "    model.load_state_dict(torch.load(args.weights))\n",
    "if not args.testing:\n",
    "    capsulenet.train(model, train_loader, test_loader, args)\n",
    "else:  # testing\n",
    "    if args.weights is None:\n",
    "        print('No weights are provided. Will test using random initialized weights.')\n",
    "    test_loss, test_acc = test(model=model, test_loader=test_loader, args=args)\n",
    "    print('test acc = %.4f, test loss = %.5f' % (test_acc, test_loss))\n",
    "    #show_reconstruction(model, test_loader, 50, args)"
   ]
  },
  {
   "cell_type": "code",
   "execution_count": 85,
   "metadata": {
    "id": "4vYbgvl3sPtJ"
   },
   "outputs": [],
   "source": [
    "def caps_loss(y_true, y_pred, x, x_recon, lam_recon):\n",
    "    L = y_true * torch.clamp(0.9 - y_pred, min=0.) ** 2 + \\\n",
    "        0.5 * (1 - y_true) * torch.clamp(y_pred - 0.1, min=0.) ** 2\n",
    "    L_margin = L.sum(dim=1).mean()\n",
    "\n",
    "    L_recon = nn.MSELoss()(x_recon, x)\n",
    "\n",
    "    return L_margin + lam_recon * L_recon\n"
   ]
  },
  {
   "cell_type": "code",
   "execution_count": 11,
   "metadata": {
    "colab": {
     "base_uri": "https://localhost:8080/",
     "height": 197
    },
    "id": "SrZLHCv-s4s7",
    "outputId": "e486de53-9eb7-4be8-d8e4-c7bd87c4aab8"
   },
   "outputs": [
    {
     "ename": "NameError",
     "evalue": "ignored",
     "output_type": "error",
     "traceback": [
      "\u001b[0;31m---------------------------------------------------------------------------\u001b[0m",
      "\u001b[0;31mNameError\u001b[0m                                 Traceback (most recent call last)",
      "\u001b[0;32m<ipython-input-11-76c44df45ffe>\u001b[0m in \u001b[0;36m<module>\u001b[0;34m()\u001b[0m\n\u001b[0;32m----> 1\u001b[0;31m \u001b[0mloss\u001b[0m \u001b[0;34m=\u001b[0m \u001b[0mcaps_loss\u001b[0m\u001b[0;34m(\u001b[0m\u001b[0my\u001b[0m\u001b[0;34m,\u001b[0m \u001b[0my_pred\u001b[0m\u001b[0;34m,\u001b[0m \u001b[0mx\u001b[0m\u001b[0;34m,\u001b[0m \u001b[0mx_recon\u001b[0m\u001b[0;34m,\u001b[0m \u001b[0margs\u001b[0m\u001b[0;34m.\u001b[0m\u001b[0mlam_recon\u001b[0m\u001b[0;34m)\u001b[0m\u001b[0;34m\u001b[0m\u001b[0;34m\u001b[0m\u001b[0m\n\u001b[0m\u001b[1;32m      2\u001b[0m \u001b[0;34m\u001b[0m\u001b[0m\n\u001b[1;32m      3\u001b[0m \u001b[0mloss\u001b[0m\u001b[0;34m\u001b[0m\u001b[0;34m\u001b[0m\u001b[0m\n",
      "\u001b[0;31mNameError\u001b[0m: name 'y' is not defined"
     ]
    }
   ],
   "source": []
  },
  {
   "cell_type": "code",
   "execution_count": 17,
   "metadata": {
    "colab": {
     "base_uri": "https://localhost:8080/"
    },
    "id": "pP3QAIGtu3Uo",
    "outputId": "42873afe-242f-4a0e-bd2d-af7acf1e7fd9"
   },
   "outputs": [
    {
     "name": "stdout",
     "output_type": "stream",
     "text": [
      "torch.Size([200, 3, 9, 9]) torch.Size([200, 4])\n",
      "torch.Size([200, 3, 9, 9]) torch.Size([200, 4])\n",
      "torch.Size([200, 3, 9, 9]) torch.Size([200, 4])\n",
      "torch.Size([200, 3, 9, 9]) torch.Size([200, 4])\n",
      "torch.Size([200, 3, 9, 9]) torch.Size([200, 4])\n",
      "torch.Size([200, 3, 9, 9]) torch.Size([200, 4])\n",
      "torch.Size([200, 3, 9, 9]) torch.Size([200, 4])\n",
      "torch.Size([200, 3, 9, 9]) torch.Size([200, 4])\n",
      "torch.Size([200, 3, 9, 9]) torch.Size([200, 4])\n",
      "torch.Size([200, 3, 9, 9]) torch.Size([200, 4])\n",
      "torch.Size([195, 3, 9, 9]) torch.Size([195, 4])\n"
     ]
    }
   ],
   "source": [
    "import torch\n",
    "from torch.utils.data import TensorDataset,DataLoader\n",
    "import numpy as np\n",
    "import os\n",
    "from scipy import stats\n",
    "\n",
    "os.chdir(os.getcwd())\n",
    "path = 'data/'\n",
    "fieldname = '_19790101-20190228.npy'\n",
    "x1_arr = np.load(path+'z1000'+fieldname) # geopotential height data (9*9 resolution)\n",
    "x2_arr = np.load(path+'pv300'+fieldname) # potential vorticity data (9*9 resolution)\n",
    "x3_arr = np.load(path+'z1000'+fieldname) # geopotential height data (9*9 resolution)\n",
    "\n",
    "x1_arr_flat = stats.zscore(x1_arr.reshape([x1_arr.shape[0],x1_arr.shape[1]*x1_arr.shape[2]])) # normalize and flatten\n",
    "x2_arr_flat = stats.zscore(x2_arr.reshape([x2_arr.shape[0],x2_arr.shape[1]*x2_arr.shape[2]]))\n",
    "x3_arr_flat = stats.zscore(x3_arr.reshape([x3_arr.shape[0],x3_arr.shape[1]*x3_arr.shape[2]]))\n",
    "y_arr = np.load(path+'rain_basin_19790101-20190228.npy') # rain data\n",
    "\n",
    "tensor_x = torch.Tensor(np.concatenate([x1_arr_flat,x2_arr_flat,x3_arr_flat],axis=1)) # join z and pv data\n",
    "tensor_y = torch.Tensor(y_arr)\n",
    "\n",
    "forecast_dataset = TensorDataset(tensor_x,tensor_y) # creates a dataset based on tensors\n",
    "forecast_dataset2 = []\n",
    "\n",
    "\n",
    "for j in forecast_dataset:\n",
    "  forecast_dataset2.append( ( j[0].reshape((3, 9, 9)) , j[1] ) ) # Rotem: ask about order of 162\n",
    "training_ds, validation_ds = torch.utils.data.random_split(forecast_dataset2, [2195,1464])\n",
    "training_dataloader = DataLoader(training_ds,batch_size=200,shuffle=True)\n",
    "valid_dataloader = DataLoader(validation_ds,batch_size=200)\n",
    "\n",
    "for batch_x,batch_y in training_dataloader:\n",
    "  print(batch_x.shape, batch_y.shape)"
   ]
  },
  {
   "cell_type": "code",
   "execution_count": 21,
   "metadata": {
    "colab": {
     "base_uri": "https://localhost:8080/"
    },
    "id": "Je6s2r1Avmyo",
    "outputId": "64d65725-d65e-490b-e046-0e0b44cf744e"
   },
   "outputs": [
    {
     "data": {
      "text/plain": [
       "tensor(-7271.9624)"
      ]
     },
     "execution_count": 21,
     "metadata": {
      "tags": []
     },
     "output_type": "execute_result"
    }
   ],
   "source": [
    "  loss = caps_loss(batch_y, batch_y, batch_x,batch_x, args.lam_recon)\n",
    "\n",
    "  loss"
   ]
  },
  {
   "cell_type": "code",
   "execution_count": null,
   "metadata": {
    "id": "D_S3hzILu_ZB"
   },
   "outputs": [],
   "source": []
  }
 ],
 "metadata": {
  "accelerator": "GPU",
  "colab": {
   "collapsed_sections": [],
   "name": "Untitled2.ipynb",
   "provenance": []
  },
  "kernelspec": {
   "display_name": "Python 3",
   "language": "python",
   "name": "python3"
  },
  "language_info": {
   "codemirror_mode": {
    "name": "ipython",
    "version": 3
   },
   "file_extension": ".py",
   "mimetype": "text/x-python",
   "name": "python",
   "nbconvert_exporter": "python",
   "pygments_lexer": "ipython3",
   "version": "3.8.3"
  }
 },
 "nbformat": 4,
 "nbformat_minor": 1
}
