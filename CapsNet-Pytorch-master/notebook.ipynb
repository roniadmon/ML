{
 "cells": [
  {
   "cell_type": "markdown",
   "metadata": {
    "colab": {
     "base_uri": "https://localhost:8080/"
    },
    "id": "9Th405hAmSLM",
    "outputId": "7aecebb5-5748-42ae-8023-1357e204204a"
   },
   "source": [
    "### !pip install torch==1.0.0 torchvision==0.2.2 -f https://download.pytorch.org/whl/cu90/torch_stable.html\n",
    "%load_ext autoreload\n",
    "%autoreload 2\n",
    "\n",
    "import argparse\n",
    "import os\n",
    "import torch\n",
    "import capsulenet\n",
    "\n",
    "# setting the hyper parameters\n",
    "parser = argparse.ArgumentParser(description=\"Capsule Network.\")\n",
    "\n",
    "parser.add_argument('--epochs', default=50, type=int)\n",
    "parser.add_argument('--batch_size', default=200, type=int)\n",
    "parser.add_argument('--lr', default=0.001, type=float,help=\"Initial learning rate\")\n",
    "parser.add_argument('--lr_decay', default=0.9, type=float,help=\"The value multiplied by lr at each epoch. Set a larger value for larger epochs\")\n",
    "parser.add_argument('--lam_recon', default=0.0005 * 784, type=float,help=\"The coefficient for the loss of decoder\")\n",
    "parser.add_argument('-r', '--routings', default=3, type=int,help=\"Number of iterations used in routing algorithm. should > 0\")  # num_routing should > 0\n",
    "parser.add_argument('--shift_pixels', default=2, type=int,help=\"Number of pixels to shift at most in each direction.\")\n",
    "parser.add_argument('--data_dir', default='./data/',help=\"Directory of data. If no data, use \\'--download\\' flag to download it\")\n",
    "parser.add_argument('--download', action='store_true',help=\"Download the required data.\")\n",
    "parser.add_argument('--save_dir', default='./result')\n",
    "parser.add_argument('-t', '--testing', action='store_true',help=\"Test the trained model on testing dataset\")\n",
    "parser.add_argument('-w', '--weights', default=None,help=\"The path of the saved weights. Should be specified when testing\")\n",
    "args = parser.parse_args(args=[])\n",
    "print(args)\n",
    "\n",
    "if not os.path.exists(args.save_dir):\n",
    "    os.makedirs(args.save_dir)\n",
    "\n",
    "# load data\n",
    "loc=0\n",
    "#train_loader, test_loader = capsulenet.load_mnist(True,args.data_dir, download=False, batch_size=args.batch_size,location=0 )\n",
    "train_loader, test_loader = capsulenet.load_mnist(False,'./data/', download=False, batch_size=args.batch_size, location=loc)\n",
    "\n",
    "# define model\n",
    "#model = capsulenet.CapsuleNet(input_size=[1, 28, 28], classes=10, routings=5)\n",
    "model = capsulenet.CapsuleNet(input_size=[1, 27, 9], classes=5, routings=5)\n",
    "if torch.cuda.is_available():\n",
    "  model.cuda()\n",
    "print(model)\n",
    "\n",
    "\n",
    "# train or test\n",
    "if args.weights is not None:  # init the model weights with provided one\n",
    "    model.load_state_dict(torch.load(args.weights))\n",
    "if not args.testing:\n",
    "    capsulenet.train(model, train_loader, test_loader, args)\n",
    "else:  # testing\n",
    "    if args.weights is None:\n",
    "        print('No weights are provided. Will test using random initialized weights.')\n",
    "    test_loss, test_acc = test(model=model, test_loader=test_loader, args=args)\n",
    "    print('test acc = %.4f, test loss = %.5f' % (test_acc, test_loss))\n",
    "    #show_reconstruction(model, test_loader, 50, args)\n",
    "    \n",
    "torch.save(model.state_dict(), 'trained_model'+str(loc)+'.pt')"
   ]
  },
  {
   "cell_type": "code",
   "execution_count": 11,
   "metadata": {},
   "outputs": [
    {
     "name": "stdout",
     "output_type": "stream",
     "text": [
      "The autoreload extension is already loaded. To reload it, use:\n",
      "  %reload_ext autoreload\n",
      "Namespace(batch_size=200, data_dir='./data/', download=False, epochs=50, lam_recon=0.392, lr=0.001, lr_decay=0.9, routings=3, save_dir='./result', shift_pixels=2, testing=False, weights=None)\n",
      "torch.Size([3659, 18, 9])\n",
      "torch.Size([3659, 22])\n",
      "tensor([0., 0., 0., 0., 0., nan, nan, 0., 0., 0., 0., 0., 0., 0., 0., 0., 0., 0., 0., 0., 0., 0.])\n"
     ]
    },
    {
     "ename": "IndexError",
     "evalue": "tensors used as indices must be long, byte or bool tensors",
     "output_type": "error",
     "traceback": [
      "\u001b[1;31m---------------------------------------------------------------------------\u001b[0m",
      "\u001b[1;31mIndexError\u001b[0m                                Traceback (most recent call last)",
      "\u001b[1;32m<ipython-input-11-e81ebc17533f>\u001b[0m in \u001b[0;36m<module>\u001b[1;34m\u001b[0m\n\u001b[0;32m     32\u001b[0m \u001b[0mloc\u001b[0m\u001b[1;33m=\u001b[0m\u001b[1;36m2\u001b[0m\u001b[1;33m\u001b[0m\u001b[1;33m\u001b[0m\u001b[0m\n\u001b[0;32m     33\u001b[0m \u001b[1;31m#train_loader, test_loader = capsulenet.load_mnist(True,args.data_dir, download=False, batch_size=args.batch_size,location=0 )\u001b[0m\u001b[1;33m\u001b[0m\u001b[1;33m\u001b[0m\u001b[1;33m\u001b[0m\u001b[0m\n\u001b[1;32m---> 34\u001b[1;33m \u001b[0mtrain_loader\u001b[0m\u001b[1;33m,\u001b[0m \u001b[0mtest_loader\u001b[0m \u001b[1;33m=\u001b[0m \u001b[0mcapsulenet\u001b[0m\u001b[1;33m.\u001b[0m\u001b[0mload_mnist\u001b[0m\u001b[1;33m(\u001b[0m\u001b[1;32mFalse\u001b[0m\u001b[1;33m,\u001b[0m\u001b[1;34m'./data/'\u001b[0m\u001b[1;33m,\u001b[0m \u001b[0mdownload\u001b[0m\u001b[1;33m=\u001b[0m\u001b[1;32mFalse\u001b[0m\u001b[1;33m,\u001b[0m \u001b[0mbatch_size\u001b[0m\u001b[1;33m=\u001b[0m\u001b[0margs\u001b[0m\u001b[1;33m.\u001b[0m\u001b[0mbatch_size\u001b[0m\u001b[1;33m,\u001b[0m \u001b[0mlocation\u001b[0m\u001b[1;33m=\u001b[0m\u001b[0mloc\u001b[0m\u001b[1;33m)\u001b[0m\u001b[1;33m\u001b[0m\u001b[1;33m\u001b[0m\u001b[0m\n\u001b[0m\u001b[0;32m     35\u001b[0m \u001b[1;33m\u001b[0m\u001b[0m\n\u001b[0;32m     36\u001b[0m \u001b[1;31m# define model\u001b[0m\u001b[1;33m\u001b[0m\u001b[1;33m\u001b[0m\u001b[1;33m\u001b[0m\u001b[0m\n",
      "\u001b[1;32m~\\Documents\\roni\\weizmann\\ML\\finalProject\\CapsNet-Pytorch-master\\capsulenet.py\u001b[0m in \u001b[0;36mload_mnist\u001b[1;34m(mnist, path, download, batch_size, shift_pixels, location)\u001b[0m\n\u001b[0;32m    248\u001b[0m             \u001b[1;32mfor\u001b[0m \u001b[0mi\u001b[0m \u001b[1;32min\u001b[0m \u001b[0mj\u001b[0m\u001b[1;33m[\u001b[0m\u001b[1;36m1\u001b[0m\u001b[1;33m]\u001b[0m\u001b[1;33m:\u001b[0m \u001b[1;31m#i = j[1][location]#\u001b[0m\u001b[1;33m\u001b[0m\u001b[1;33m\u001b[0m\u001b[0m\n\u001b[0;32m    249\u001b[0m                 \u001b[1;32mif\u001b[0m\u001b[1;33m(\u001b[0m\u001b[0mi\u001b[0m \u001b[1;33m<\u001b[0m \u001b[1;36m0.1\u001b[0m\u001b[1;33m)\u001b[0m\u001b[1;33m:\u001b[0m\u001b[1;33m\u001b[0m\u001b[1;33m\u001b[0m\u001b[0m\n\u001b[1;32m--> 250\u001b[1;33m                    \u001b[0mclassification\u001b[0m\u001b[1;33m[\u001b[0m\u001b[0mi\u001b[0m\u001b[1;33m]\u001b[0m \u001b[1;33m=\u001b[0m \u001b[1;36m1\u001b[0m\u001b[1;33m\u001b[0m\u001b[1;33m\u001b[0m\u001b[0m\n\u001b[0m\u001b[0;32m    251\u001b[0m                 \u001b[1;32melif\u001b[0m\u001b[1;33m(\u001b[0m\u001b[0mi\u001b[0m \u001b[1;33m<=\u001b[0m \u001b[1;36m4\u001b[0m\u001b[1;33m)\u001b[0m\u001b[1;33m:\u001b[0m\u001b[1;33m\u001b[0m\u001b[1;33m\u001b[0m\u001b[0m\n\u001b[0;32m    252\u001b[0m                    \u001b[0mclassification\u001b[0m\u001b[1;33m[\u001b[0m\u001b[0mi\u001b[0m\u001b[1;33m]\u001b[0m \u001b[1;33m=\u001b[0m \u001b[1;36m1\u001b[0m\u001b[1;33m\u001b[0m\u001b[1;33m\u001b[0m\u001b[0m\n",
      "\u001b[1;31mIndexError\u001b[0m: tensors used as indices must be long, byte or bool tensors"
     ]
    }
   ],
   "source": [
    "### !pip install torch==1.0.0 torchvision==0.2.2 -f https://download.pytorch.org/whl/cu90/torch_stable.html\n",
    "%load_ext autoreload\n",
    "%autoreload 2\n",
    "\n",
    "import argparse\n",
    "import os\n",
    "import torch\n",
    "import capsulenet\n",
    "\n",
    "# setting the hyper parameters\n",
    "parser = argparse.ArgumentParser(description=\"Capsule Network.\")\n",
    "\n",
    "parser.add_argument('--epochs', default=50, type=int)\n",
    "parser.add_argument('--batch_size', default=200, type=int)\n",
    "parser.add_argument('--lr', default=0.001, type=float,help=\"Initial learning rate\")\n",
    "parser.add_argument('--lr_decay', default=0.9, type=float,help=\"The value multiplied by lr at each epoch. Set a larger value for larger epochs\")\n",
    "parser.add_argument('--lam_recon', default=0.0005 * 784, type=float,help=\"The coefficient for the loss of decoder\")\n",
    "parser.add_argument('-r', '--routings', default=3, type=int,help=\"Number of iterations used in routing algorithm. should > 0\")  # num_routing should > 0\n",
    "parser.add_argument('--shift_pixels', default=2, type=int,help=\"Number of pixels to shift at most in each direction.\")\n",
    "parser.add_argument('--data_dir', default='./data/',help=\"Directory of data. If no data, use \\'--download\\' flag to download it\")\n",
    "parser.add_argument('--download', action='store_true',help=\"Download the required data.\")\n",
    "parser.add_argument('--save_dir', default='./result')\n",
    "parser.add_argument('-t', '--testing', action='store_true',help=\"Test the trained model on testing dataset\")\n",
    "parser.add_argument('-w', '--weights', default=None,help=\"The path of the saved weights. Should be specified when testing\")\n",
    "args = parser.parse_args(args=[])\n",
    "print(args)\n",
    "\n",
    "if not os.path.exists(args.save_dir):\n",
    "    os.makedirs(args.save_dir)\n",
    "\n",
    "# load data\n",
    "loc=2\n",
    "#train_loader, test_loader = capsulenet.load_mnist(True,args.data_dir, download=False, batch_size=args.batch_size,location=0 )\n",
    "train_loader, test_loader = capsulenet.load_mnist(False,'./data/', download=False, batch_size=args.batch_size, location=loc)\n",
    "\n",
    "# define model\n",
    "#model = capsulenet.CapsuleNet(input_size=[1, 28, 28], classes=10, routings=5)\n",
    "model = capsulenet.CapsuleNet(input_size=[2, 9, 9], classes=5, routings=5)\n",
    "# if torch.cuda.is_available():\n",
    "#   model.cuda()\n",
    "print(model)\n",
    "\n",
    "\n",
    "# train or test\n",
    "if args.weights is not None:  # init the model weights with provided one\n",
    "    model.load_state_dict(torch.load(args.weights))\n",
    "if not args.testing:\n",
    "    capsulenet.train(model, train_loader, test_loader, args)\n",
    "else:  # testing\n",
    "    if args.weights is None:\n",
    "        print('No weights are provided. Will test using random initialized weights.')\n",
    "    test_loss, test_acc = test(model=model, test_loader=test_loader, args=args)\n",
    "    print('test acc = %.4f, test loss = %.5f' % (test_acc, test_loss))\n",
    "    #show_reconstruction(model, test_loader, 50, args)\n",
    "    \n",
    "torch.save(model.state_dict(), 'trained_model'+str(loc)+'.pt')"
   ]
  },
  {
   "cell_type": "code",
   "execution_count": 20,
   "metadata": {},
   "outputs": [
    {
     "name": "stdout",
     "output_type": "stream",
     "text": [
      "z.shape torch.Size([132, 1])\n",
      "torch.Size([132, 3])\n"
     ]
    }
   ],
   "source": [
    "z = y[:, None]\n",
    "z = torch.zeros(z.size(0), 3).scatter_(1, z, 1)\n",
    "print(z.shape)"
   ]
  },
  {
   "cell_type": "code",
   "execution_count": 51,
   "metadata": {
    "colab": {
     "base_uri": "https://localhost:8080/",
     "height": 1000
    },
    "id": "xF19Q7w0v828",
    "outputId": "8051ba75-4197-424c-ea71-790c6e79a938",
    "scrolled": true
   },
   "outputs": [
    {
     "name": "stdout",
     "output_type": "stream",
     "text": [
      "Begin Training----------------------------------------------------------------------\n",
      "0\n",
      "==> Epoch 00: loss=0.47787, val_loss=0.38342, val_acc=0.9107, time=298s\n",
      "best val_acc increased to 0.9107\n",
      "1\n",
      "==> Epoch 01: loss=0.34146, val_loss=0.34274, val_acc=0.9112, time=296s\n",
      "best val_acc increased to 0.9112\n",
      "2\n",
      "==> Epoch 02: loss=0.32838, val_loss=0.33054, val_acc=0.9107, time=297s\n",
      "3\n",
      "==> Epoch 03: loss=0.32035, val_loss=0.32142, val_acc=0.9126, time=295s\n",
      "best val_acc increased to 0.9126\n",
      "4\n",
      "==> Epoch 04: loss=0.31328, val_loss=0.31984, val_acc=0.9129, time=295s\n",
      "best val_acc increased to 0.9129\n",
      "5\n",
      "==> Epoch 05: loss=0.30858, val_loss=0.31849, val_acc=0.9117, time=300s\n",
      "6\n",
      "==> Epoch 06: loss=0.30585, val_loss=0.31476, val_acc=0.9120, time=297s\n",
      "7\n",
      "==> Epoch 07: loss=0.30104, val_loss=0.31097, val_acc=0.9141, time=301s\n",
      "best val_acc increased to 0.9141\n",
      "8\n",
      "==> Epoch 08: loss=0.29779, val_loss=0.30894, val_acc=0.9142, time=321s\n",
      "best val_acc increased to 0.9142\n",
      "9\n",
      "==> Epoch 09: loss=0.29544, val_loss=0.30800, val_acc=0.9169, time=303s\n",
      "best val_acc increased to 0.9169\n",
      "10\n",
      "==> Epoch 10: loss=0.29347, val_loss=0.30811, val_acc=0.9159, time=304s\n",
      "11\n",
      "==> Epoch 11: loss=0.29143, val_loss=0.30681, val_acc=0.9179, time=292s\n",
      "best val_acc increased to 0.9179\n",
      "12\n",
      "==> Epoch 12: loss=0.29017, val_loss=0.30683, val_acc=0.9172, time=292s\n",
      "13\n",
      "==> Epoch 13: loss=0.28853, val_loss=0.30614, val_acc=0.9175, time=434s\n",
      "14\n",
      "==> Epoch 14: loss=0.28718, val_loss=0.30548, val_acc=0.9178, time=297s\n",
      "15\n",
      "==> Epoch 15: loss=0.28599, val_loss=0.30466, val_acc=0.9181, time=295s\n",
      "best val_acc increased to 0.9181\n",
      "16\n",
      "==> Epoch 16: loss=0.28468, val_loss=0.30450, val_acc=0.9196, time=294s\n",
      "best val_acc increased to 0.9196\n",
      "17\n",
      "==> Epoch 17: loss=0.28382, val_loss=0.30415, val_acc=0.9182, time=306s\n",
      "18\n",
      "==> Epoch 18: loss=0.28265, val_loss=0.30337, val_acc=0.9200, time=297s\n",
      "best val_acc increased to 0.9200\n",
      "19\n",
      "==> Epoch 19: loss=0.28158, val_loss=0.30269, val_acc=0.9187, time=802s\n",
      "20\n",
      "==> Epoch 20: loss=0.28083, val_loss=0.30277, val_acc=0.9191, time=303s\n",
      "21\n",
      "==> Epoch 21: loss=0.27996, val_loss=0.30266, val_acc=0.9203, time=294s\n",
      "best val_acc increased to 0.9203\n",
      "22\n",
      "==> Epoch 22: loss=0.27941, val_loss=0.30264, val_acc=0.9183, time=297s\n",
      "23\n",
      "==> Epoch 23: loss=0.27894, val_loss=0.30206, val_acc=0.9185, time=297s\n",
      "24\n",
      "==> Epoch 24: loss=0.27841, val_loss=0.30234, val_acc=0.9190, time=307s\n",
      "25\n",
      "==> Epoch 25: loss=0.27786, val_loss=0.30223, val_acc=0.9190, time=296s\n",
      "26\n",
      "==> Epoch 26: loss=0.27750, val_loss=0.30221, val_acc=0.9189, time=291s\n",
      "27\n",
      "==> Epoch 27: loss=0.27717, val_loss=0.30191, val_acc=0.9196, time=291s\n",
      "28\n",
      "==> Epoch 28: loss=0.27689, val_loss=0.30196, val_acc=0.9202, time=294s\n",
      "29\n",
      "==> Epoch 29: loss=0.27650, val_loss=0.30173, val_acc=0.9206, time=293s\n",
      "best val_acc increased to 0.9206\n",
      "30\n",
      "==> Epoch 30: loss=0.27625, val_loss=0.30171, val_acc=0.9198, time=299s\n",
      "31\n",
      "==> Epoch 31: loss=0.27595, val_loss=0.30178, val_acc=0.9200, time=311s\n",
      "32\n",
      "==> Epoch 32: loss=0.27573, val_loss=0.30188, val_acc=0.9196, time=299s\n",
      "33\n",
      "==> Epoch 33: loss=0.27557, val_loss=0.30166, val_acc=0.9199, time=2900s\n",
      "34\n",
      "==> Epoch 34: loss=0.27540, val_loss=0.30149, val_acc=0.9202, time=298s\n",
      "35\n",
      "==> Epoch 35: loss=0.27520, val_loss=0.30155, val_acc=0.9200, time=292s\n",
      "36\n",
      "==> Epoch 36: loss=0.27507, val_loss=0.30153, val_acc=0.9200, time=312s\n",
      "37\n",
      "==> Epoch 37: loss=0.27491, val_loss=0.30142, val_acc=0.9198, time=290s\n",
      "38\n",
      "==> Epoch 38: loss=0.27478, val_loss=0.30147, val_acc=0.9196, time=300s\n",
      "39\n",
      "==> Epoch 39: loss=0.27466, val_loss=0.30149, val_acc=0.9201, time=314s\n",
      "40\n",
      "==> Epoch 40: loss=0.27458, val_loss=0.30135, val_acc=0.9201, time=295s\n",
      "41\n",
      "==> Epoch 41: loss=0.27448, val_loss=0.30148, val_acc=0.9200, time=305s\n",
      "42\n",
      "==> Epoch 42: loss=0.27441, val_loss=0.30142, val_acc=0.9202, time=294s\n",
      "43\n",
      "==> Epoch 43: loss=0.27431, val_loss=0.30141, val_acc=0.9201, time=295s\n",
      "44\n",
      "==> Epoch 44: loss=0.27423, val_loss=0.30144, val_acc=0.9200, time=306s\n",
      "45\n",
      "==> Epoch 45: loss=0.27419, val_loss=0.30142, val_acc=0.9200, time=301s\n",
      "46\n",
      "==> Epoch 46: loss=0.27412, val_loss=0.30134, val_acc=0.9201, time=292s\n",
      "47\n",
      "==> Epoch 47: loss=0.27408, val_loss=0.30135, val_acc=0.9202, time=10488s\n",
      "48\n",
      "==> Epoch 48: loss=0.27401, val_loss=0.30138, val_acc=0.9200, time=302s\n",
      "49\n",
      "==> Epoch 49: loss=0.27396, val_loss=0.30138, val_acc=0.9200, time=299s\n",
      "Trained model saved to './result/trained_model.h5'\n",
      "Total time = 28393s\n",
      "End Training----------------------------------------------------------------------\n"
     ]
    }
   ],
   "source": [
    "\n",
    "# train or test\n",
    "if args.weights is not None:  # init the model weights with provided one\n",
    "    model.load_state_dict(torch.load(args.weights))\n",
    "if not args.testing:\n",
    "    capsulenet.train(model, train_loader, test_loader, args)\n",
    "else:  # testing\n",
    "    if args.weights is None:\n",
    "        print('No weights are provided. Will test using random initialized weights.')\n",
    "    test_loss, test_acc = test(model=model, test_loader=test_loader, args=args)\n",
    "    print('test acc = %.4f, test loss = %.5f' % (test_acc, test_loss))\n",
    "    #show_reconstruction(model, test_loader, 50, args)"
   ]
  },
  {
   "cell_type": "code",
   "execution_count": 53,
   "metadata": {
    "id": "4vYbgvl3sPtJ"
   },
   "outputs": [],
   "source": [
    "torch.save(model.state_dict(), 'trained_model1.pt')"
   ]
  },
  {
   "cell_type": "code",
   "execution_count": 11,
   "metadata": {
    "colab": {
     "base_uri": "https://localhost:8080/",
     "height": 197
    },
    "id": "SrZLHCv-s4s7",
    "outputId": "e486de53-9eb7-4be8-d8e4-c7bd87c4aab8"
   },
   "outputs": [
    {
     "ename": "NameError",
     "evalue": "ignored",
     "output_type": "error",
     "traceback": [
      "\u001b[0;31m---------------------------------------------------------------------------\u001b[0m",
      "\u001b[0;31mNameError\u001b[0m                                 Traceback (most recent call last)",
      "\u001b[0;32m<ipython-input-11-76c44df45ffe>\u001b[0m in \u001b[0;36m<module>\u001b[0;34m()\u001b[0m\n\u001b[0;32m----> 1\u001b[0;31m \u001b[0mloss\u001b[0m \u001b[0;34m=\u001b[0m \u001b[0mcaps_loss\u001b[0m\u001b[0;34m(\u001b[0m\u001b[0my\u001b[0m\u001b[0;34m,\u001b[0m \u001b[0my_pred\u001b[0m\u001b[0;34m,\u001b[0m \u001b[0mx\u001b[0m\u001b[0;34m,\u001b[0m \u001b[0mx_recon\u001b[0m\u001b[0;34m,\u001b[0m \u001b[0margs\u001b[0m\u001b[0;34m.\u001b[0m\u001b[0mlam_recon\u001b[0m\u001b[0;34m)\u001b[0m\u001b[0;34m\u001b[0m\u001b[0;34m\u001b[0m\u001b[0m\n\u001b[0m\u001b[1;32m      2\u001b[0m \u001b[0;34m\u001b[0m\u001b[0m\n\u001b[1;32m      3\u001b[0m \u001b[0mloss\u001b[0m\u001b[0;34m\u001b[0m\u001b[0;34m\u001b[0m\u001b[0m\n",
      "\u001b[0;31mNameError\u001b[0m: name 'y' is not defined"
     ]
    }
   ],
   "source": []
  },
  {
   "cell_type": "code",
   "execution_count": 18,
   "metadata": {
    "colab": {
     "base_uri": "https://localhost:8080/"
    },
    "id": "pP3QAIGtu3Uo",
    "outputId": "42873afe-242f-4a0e-bd2d-af7acf1e7fd9"
   },
   "outputs": [
    {
     "name": "stdout",
     "output_type": "stream",
     "text": [
      "(3659, 9, 9)\n",
      "(3659, 22)\n",
      "torch.Size([3659, 18, 9])\n",
      "torch.Size([3659, 22])\n"
     ]
    },
    {
     "ename": "RuntimeError",
     "evalue": "shape '[3, 9, 9]' is invalid for input of size 162",
     "output_type": "error",
     "traceback": [
      "\u001b[1;31m---------------------------------------------------------------------------\u001b[0m",
      "\u001b[1;31mRuntimeError\u001b[0m                              Traceback (most recent call last)",
      "\u001b[1;32m<ipython-input-18-9e9ce0e5e251>\u001b[0m in \u001b[0;36m<module>\u001b[1;34m\u001b[0m\n\u001b[0;32m     27\u001b[0m \u001b[1;33m\u001b[0m\u001b[0m\n\u001b[0;32m     28\u001b[0m \u001b[1;32mfor\u001b[0m \u001b[0mj\u001b[0m \u001b[1;32min\u001b[0m \u001b[0mforecast_dataset\u001b[0m\u001b[1;33m:\u001b[0m\u001b[1;33m\u001b[0m\u001b[1;33m\u001b[0m\u001b[0m\n\u001b[1;32m---> 29\u001b[1;33m   \u001b[0mforecast_dataset2\u001b[0m\u001b[1;33m.\u001b[0m\u001b[0mappend\u001b[0m\u001b[1;33m(\u001b[0m \u001b[1;33m(\u001b[0m \u001b[0mj\u001b[0m\u001b[1;33m[\u001b[0m\u001b[1;36m0\u001b[0m\u001b[1;33m]\u001b[0m\u001b[1;33m.\u001b[0m\u001b[0mreshape\u001b[0m\u001b[1;33m(\u001b[0m\u001b[1;33m(\u001b[0m\u001b[1;36m3\u001b[0m\u001b[1;33m,\u001b[0m \u001b[1;36m9\u001b[0m\u001b[1;33m,\u001b[0m \u001b[1;36m9\u001b[0m\u001b[1;33m)\u001b[0m\u001b[1;33m)\u001b[0m \u001b[1;33m,\u001b[0m \u001b[0mj\u001b[0m\u001b[1;33m[\u001b[0m\u001b[1;36m1\u001b[0m\u001b[1;33m]\u001b[0m \u001b[1;33m)\u001b[0m \u001b[1;33m)\u001b[0m \u001b[1;31m# Rotem: ask about order of 162\u001b[0m\u001b[1;33m\u001b[0m\u001b[1;33m\u001b[0m\u001b[0m\n\u001b[0m\u001b[0;32m     30\u001b[0m \u001b[0mtraining_ds\u001b[0m\u001b[1;33m,\u001b[0m \u001b[0mvalidation_ds\u001b[0m \u001b[1;33m=\u001b[0m \u001b[0mtorch\u001b[0m\u001b[1;33m.\u001b[0m\u001b[0mutils\u001b[0m\u001b[1;33m.\u001b[0m\u001b[0mdata\u001b[0m\u001b[1;33m.\u001b[0m\u001b[0mrandom_split\u001b[0m\u001b[1;33m(\u001b[0m\u001b[0mforecast_dataset2\u001b[0m\u001b[1;33m,\u001b[0m \u001b[1;33m[\u001b[0m\u001b[1;36m2195\u001b[0m\u001b[1;33m,\u001b[0m\u001b[1;36m1464\u001b[0m\u001b[1;33m]\u001b[0m\u001b[1;33m)\u001b[0m\u001b[1;33m\u001b[0m\u001b[1;33m\u001b[0m\u001b[0m\n\u001b[0;32m     31\u001b[0m \u001b[0mtraining_dataloader\u001b[0m \u001b[1;33m=\u001b[0m \u001b[0mDataLoader\u001b[0m\u001b[1;33m(\u001b[0m\u001b[0mtraining_ds\u001b[0m\u001b[1;33m,\u001b[0m\u001b[0mbatch_size\u001b[0m\u001b[1;33m=\u001b[0m\u001b[1;36m200\u001b[0m\u001b[1;33m,\u001b[0m\u001b[0mshuffle\u001b[0m\u001b[1;33m=\u001b[0m\u001b[1;32mTrue\u001b[0m\u001b[1;33m)\u001b[0m\u001b[1;33m\u001b[0m\u001b[1;33m\u001b[0m\u001b[0m\n",
      "\u001b[1;31mRuntimeError\u001b[0m: shape '[3, 9, 9]' is invalid for input of size 162"
     ]
    }
   ],
   "source": [
    "import torch\n",
    "from torch.utils.data import TensorDataset,DataLoader\n",
    "import numpy as np\n",
    "import os\n",
    "from scipy import stats\n",
    "\n",
    "path=\"./data/\"\n",
    "fieldname = '_19790101-20190228.npy'\n",
    "x1_arr = np.load(path+'z1000' + fieldname)  # geopotential height data (9*9 resolution)\n",
    "x2_arr = np.load(path+'pv300' + fieldname)  # potential vorticity data (9*9 resolution)\n",
    "\n",
    "#x3_arr = np.load(path+'z500' + fieldname)  # geopotential height data (9*9 resolution)\n",
    "\n",
    "#x1_arr_flat = stats.zscore(x1_arr.reshape([x1_arr.shape[0], x1_arr.shape[1] * x1_arr.shape[2]]))\n",
    "#x2_arr_flat = stats.zscore(x2_arr.reshape([x2_arr.shape[0], x2_arr.shape[1] * x2_arr.shape[2]]))\n",
    "#x3_arr_flat = stats.zscore(x2_arr.reshape([x3_arr.shape[0], x3_arr.shape[1] * x3_arr.shape[2]]))\n",
    "y_arr = np.load(path+'rain'+fieldname)  # rain data\n",
    "print(y_arr.shape)\n",
    "tensor_x = torch.Tensor(np.concatenate([x1_arr, x2_arr], axis=1))\n",
    "print(tensor_x.shape)\n",
    "tensor_y = torch.Tensor(y_arr)\n",
    "print(tensor_y.shape)\n",
    "\n",
    "forecast_dataset = TensorDataset(tensor_x,tensor_y) # creates a dataset based on tensors\n",
    "forecast_dataset2 = []\n",
    "\n",
    "\n",
    "for j in forecast_dataset:\n",
    "  forecast_dataset2.append( ( j[0].reshape((3, 9, 9)) , j[1] ) ) # Rotem: ask about order of 162\n",
    "training_ds, validation_ds = torch.utils.data.random_split(forecast_dataset2, [2195,1464])\n",
    "training_dataloader = DataLoader(training_ds,batch_size=200,shuffle=True)\n",
    "valid_dataloader = DataLoader(validation_ds,batch_size=200)\n",
    "\n",
    "for batch_x,batch_y in training_dataloader:\n",
    "  print(batch_x.shape, batch_y.shape)"
   ]
  },
  {
   "cell_type": "code",
   "execution_count": 21,
   "metadata": {
    "colab": {
     "base_uri": "https://localhost:8080/"
    },
    "id": "Je6s2r1Avmyo",
    "outputId": "64d65725-d65e-490b-e046-0e0b44cf744e"
   },
   "outputs": [
    {
     "data": {
      "text/plain": [
       "tensor(-7271.9624)"
      ]
     },
     "execution_count": 21,
     "metadata": {
      "tags": []
     },
     "output_type": "execute_result"
    }
   ],
   "source": [
    "  loss = caps_loss(batch_y, batch_y, batch_x,batch_x, args.lam_recon)\n",
    "\n",
    "  loss"
   ]
  },
  {
   "cell_type": "code",
   "execution_count": null,
   "metadata": {
    "id": "D_S3hzILu_ZB"
   },
   "outputs": [],
   "source": []
  }
 ],
 "metadata": {
  "accelerator": "GPU",
  "colab": {
   "collapsed_sections": [],
   "name": "Untitled2.ipynb",
   "provenance": []
  },
  "kernelspec": {
   "display_name": "Python 3",
   "language": "python",
   "name": "python3"
  },
  "language_info": {
   "codemirror_mode": {
    "name": "ipython",
    "version": 3
   },
   "file_extension": ".py",
   "mimetype": "text/x-python",
   "name": "python",
   "nbconvert_exporter": "python",
   "pygments_lexer": "ipython3",
   "version": "3.8.3"
  }
 },
 "nbformat": 4,
 "nbformat_minor": 1
}
